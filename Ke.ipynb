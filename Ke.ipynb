{
 "cells": [
  {
   "cell_type": "markdown",
   "id": "d71c6e12",
   "metadata": {
    "id": "d71c6e12"
   },
   "source": [
    "# Projeto: Criação de um código que retorne o Ke de uma ou mais ações usando o CAPM."
   ]
  },
  {
   "cell_type": "code",
   "execution_count": 1,
   "id": "f36ee1c5",
   "metadata": {
    "id": "f36ee1c5"
   },
   "outputs": [],
   "source": [
    "#importando bibliotecas\n",
    "import time\n",
    "import numpy as np\n",
    "import pandas as pd\n",
    "import datetime as dt\n",
    "import yfinance as yf\n",
    "import pandas_datareader.data as web\n",
    "from selenium import webdriver"
   ]
  },
  {
   "cell_type": "markdown",
   "id": "3bc16519",
   "metadata": {
    "id": "3bc16519"
   },
   "source": [
    "## Puxando dados ações"
   ]
  },
  {
   "cell_type": "code",
   "execution_count": 12,
   "id": "97529488",
   "metadata": {
    "colab": {
     "base_uri": "https://localhost:8080/",
     "height": 606
    },
    "id": "97529488",
    "outputId": "161d5d22-997a-41b1-bc35-9c7190c7609e",
    "scrolled": false
   },
   "outputs": [
    {
     "name": "stdout",
     "output_type": "stream",
     "text": [
      "Colocar as ações no mesmo formato que estão no yahoo finance e uma por uma.\n",
      "Exemplo:\n",
      "input_1 = ITSA4.SA\n",
      "input_2 = VIVT3.SA\n",
      "\n",
      "Quantas ações deseja analizar? 3\n",
      "Quais as ações que deseja analizar? itsa4.sa\n",
      "Quais as ações que deseja analizar? vale3.sa\n",
      "Quais as ações que deseja analizar? vivt3.sa\n",
      "Qual indice usara como referencia? ^bvsp\n",
      "Qual a data de início para o cálculo do beta? (aaaa-mm-dd)2017-01-01\n",
      "[*********************100%***********************]  4 of 4 completed\n"
     ]
    }
   ],
   "source": [
    "print(\"\"\"Colocar as ações no mesmo formato que estão no yahoo finance e uma por uma.\n",
    "Exemplo:\n",
    "input_1 = ITSA4.SA\n",
    "input_2 = VIVT3.SA\n",
    "\"\"\")\n",
    "\n",
    "# Ações\n",
    "n = int(input('Quantas ações deseja analizar? '))\n",
    "tickers = []\n",
    "for i in range(n):\n",
    "    ticker = input('Quais as ações que deseja analizar? ').upper()\n",
    "    tickers.append(ticker)\n",
    "\n",
    "# Indice\n",
    "index = []\n",
    "index = input('Qual indice usara como referencia? ').upper()\n",
    "tickers_2 = tickers.copy()\n",
    "tickers_2.append(index)\n",
    "\n",
    "# Data de inicio\n",
    "data = input('Qual a data de início para o cálculo do beta? (aaaa-mm-dd)')\n",
    "yf.pdr_override()\n",
    "df = web.get_data_yahoo(tickers_2, start = data, end = dt.date.today())\n",
    "\n",
    "# Preço de fechamento ajustado\n",
    "df_adj = df['Adj Close']"
   ]
  },
  {
   "cell_type": "markdown",
   "id": "hc-wWx59U28F",
   "metadata": {
    "id": "hc-wWx59U28F"
   },
   "source": [
    "### Retorno"
   ]
  },
  {
   "cell_type": "code",
   "execution_count": 13,
   "id": "fPEzJVyiRLD2",
   "metadata": {
    "id": "fPEzJVyiRLD2"
   },
   "outputs": [],
   "source": [
    "# Retorno diario\n",
    "def daily_return(df):\n",
    "    df_daily_return = df.copy()\n",
    "    for i in df.columns[:]:\n",
    "        for j in range(1, len(df)):\n",
    "            df_daily_return[i][j] = ((df[i][j] - df[i][j-1])/df[i][j-1]) * 100\n",
    "        df_daily_return[i][0] = 0\n",
    "    return df_daily_return\n",
    "daily_r_d = daily_return(df_adj)\n",
    "daily_r_d = daily_r_d[1:].dropna()"
   ]
  },
  {
   "cell_type": "markdown",
   "id": "Nf0CJNmhU-om",
   "metadata": {
    "id": "Nf0CJNmhU-om"
   },
   "source": [
    "### Taxa livre de risco"
   ]
  },
  {
   "cell_type": "code",
   "execution_count": 8,
   "id": "Q4EtGDhD0lOM",
   "metadata": {
    "id": "Q4EtGDhD0lOM"
   },
   "outputs": [
    {
     "name": "stdout",
     "output_type": "stream",
     "text": [
      "A taxa livre de risco usada é o tesouro pré fixado 2031 com retorno de 10.92% ao ano.\n"
     ]
    }
   ],
   "source": [
    "# Pegando a taxa livre de risco do site do tesouro\n",
    "url = 'https://www.tesourodireto.com.br/titulos/precos-e-taxas.htm#0'\n",
    "navegador = webdriver.Chrome()\n",
    "navegador.get(url)\n",
    "time.sleep(5)\n",
    "rf = navegador.find_element_by_xpath('//*[@id=\"td-precos_taxas-tab_1\"]/div/div[9]/table/tbody[3]/tr/td[2]/span').text\n",
    "ano = navegador.find_element_by_xpath('//*[@id=\"td-precos_taxas-tab_1\"]/div/div[9]/table/tbody[3]/tr/td[1]/span/span/span').text\n",
    "navegador.close()\n",
    "rf = rf.replace(',','.')\n",
    "print(f'A taxa livre de risco usada é o tesouro pré fixado {ano} com retorno de {rf} ao ano.')\n",
    "rf = float(rf.replace('%',''))"
   ]
  },
  {
   "cell_type": "markdown",
   "id": "b5faafd9",
   "metadata": {},
   "source": [
    "### Premio de risco"
   ]
  },
  {
   "cell_type": "code",
   "execution_count": 18,
   "id": "475b22d2",
   "metadata": {},
   "outputs": [
    {
     "name": "stdout",
     "output_type": "stream",
     "text": [
      "O premio de risco de mercado para o brasil segundo o site do Damodaran é 7.63% ao ano.\n",
      "O premio de risco de mercado dado o indice escolhido e a data escolhida é 6.59% ao ano.\n"
     ]
    }
   ],
   "source": [
    "# Pegando o premio de mercado no site do Damodaran\n",
    "dam = pd.read_html('https://pages.stern.nyu.edu/~adamodar/New_Home_Page/datafile/ctryprem.html', skiprows = 0, header = 0)[0]\n",
    "dam = pd.DataFrame(dam)\n",
    "dam = dam.set_index('Country')\n",
    "rp_d = dam.loc['Brazil','Total Equity Risk Premium']\n",
    "rp_d = float(rp_d.replace('%',''))\n",
    "\n",
    "# Adotando o retorno médio do indice no periodo escolhido\n",
    "rm = daily_r_d[index].mean() * 252\n",
    "rp_a = round((rm - rf), 2)\n",
    "\n",
    "print(f'''O premio de risco de mercado para o brasil segundo o site do Damodaran é {rp_d}% ao ano.\n",
    "O premio de risco de mercado dado o indice escolhido e a data escolhida é {rp_a}% ao ano.''')"
   ]
  },
  {
   "cell_type": "markdown",
   "id": "KUiGHudyGXZB",
   "metadata": {
    "id": "KUiGHudyGXZB"
   },
   "source": [
    "## Calculando o Ke"
   ]
  },
  {
   "cell_type": "code",
   "execution_count": 15,
   "id": "1i53BzVBGadb",
   "metadata": {
    "colab": {
     "base_uri": "https://localhost:8080/",
     "height": 404
    },
    "id": "1i53BzVBGadb",
    "outputId": "eb8d32b4-e594-4397-b2d8-87ecb79f25b5",
    "scrolled": true
   },
   "outputs": [
    {
     "name": "stdout",
     "output_type": "stream",
     "text": [
      "O retorno esperado para ITSA4.SA é de 15.62%.\n",
      "O retorno esperado para VALE3.SA é de 13.62%.\n",
      "O retorno esperado para VIVT3.SA é de 13.81%.\n",
      "O retorno esperado para o portfólio é de 14.35%.\n"
     ]
    }
   ],
   "source": [
    "if n == 1:\n",
    "    beta = np.cov(daily_r_d[index], daily_r_d[tickers])[0][1] / np.var(daily_r_d[tickers])\n",
    "    Ke = round(rf + beta * rp_a, 2)\n",
    "    print(f'O retorno esperado é {ri}%.')\n",
    "else:\n",
    "    Ke = {}\n",
    "    for i in tickers:\n",
    "        beta = np.cov(daily_r_d[index], daily_r_d[i])[0][1] / np.var(daily_r_d[i])\n",
    "        Ke[i] = round(rf + beta * rp_a, 2)\n",
    "        print (f'O retorno esperado para {i} é de {Ke[i]}%.')\n",
    "# Assumindo pesos iguais para as ações em um portifolio\n",
    "pesos = 1/n * np.ones(n)\n",
    "Ke_portfolio = round(sum(list(Ke.values()) * pesos), 2)\n",
    "print (f'O retorno esperado para o portfólio é de {Ke_portfolio}%.')"
   ]
  }
 ],
 "metadata": {
  "colab": {
   "name": "Projeto entidade.ipynb",
   "provenance": []
  },
  "kernelspec": {
   "display_name": "Python 3",
   "language": "python",
   "name": "python3"
  },
  "language_info": {
   "codemirror_mode": {
    "name": "ipython",
    "version": 3
   },
   "file_extension": ".py",
   "mimetype": "text/x-python",
   "name": "python",
   "nbconvert_exporter": "python",
   "pygments_lexer": "ipython3",
   "version": "3.8.8"
  }
 },
 "nbformat": 4,
 "nbformat_minor": 5
}
